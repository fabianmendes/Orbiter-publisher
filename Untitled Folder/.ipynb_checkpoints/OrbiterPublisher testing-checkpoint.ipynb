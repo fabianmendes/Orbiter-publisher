{
 "cells": [
  {
   "cell_type": "code",
   "execution_count": 1,
   "metadata": {},
   "outputs": [],
   "source": [
    "from selenium import webdriver\n",
    "from selenium.webdriver.chrome.options import Options\n",
    "from selenium.webdriver.common.by import By\n",
    "from selenium.webdriver.support.ui import WebDriverWait\n",
    "from selenium.webdriver.support import expected_conditions\n",
    "from selenium.webdriver.common.keys import Keys\n",
    "# For Scrapping.----------------------------------\n",
    "import requests\n",
    "from bs4 import BeautifulSoup\n",
    "import html\n",
    "from lxml import etree\n",
    "#------------------------------------------------\n",
    "\n",
    "chrome_options = Options()\n",
    "chrome_options.add_argument('--no-sandbox')\n",
    "chrome_options.add_argument('--disable-dev-shm-usage')\n",
    "\n",
    "driver = webdriver.Chrome(options=chrome_options)\n",
    "driver.implicitly_wait(40)  # seconds\n",
    "paggina = \"https://ultimasnoticias.com.ve/noticias/general/5-mil-litros-de-leche-de-cabra-estiman-producir-en-los-teques/\"\n",
    "\n",
    "driver.get(paggina)\n"
   ]
  },
  {
   "cell_type": "code",
   "execution_count": 3,
   "metadata": {},
   "outputs": [
    {
     "name": "stdout",
     "output_type": "stream",
     "text": [
      "5 mil litros de leche de cabra estiman producir en Los Teques\n"
     ]
    }
   ],
   "source": [
    "ah = driver.find_element_by_xpath(\n",
    "    '//*[@id=\"tdi_74\"]/div/div[1]/div/div[8]/div').text\n",
    "    # ah = Texto. Cuerpo de la publicacion.\n",
    "#print(ah)\n",
    "extracto_xpath = '//*[@id=\"tdi_74\"]/div/div[1]/div/div[6]/div/h2'\n",
    "\n",
    "tittle_xpath = '//*[@id=\"tdi_74\"]/div/div[1]/div/div[5]'\n",
    "tittle = driver.find_element_by_xpath(tittle_xpath).text\n",
    "print(tittle)"
   ]
  },
  {
   "cell_type": "code",
   "execution_count": 4,
   "metadata": {},
   "outputs": [
    {
     "name": "stdout",
     "output_type": "stream",
     "text": [
      "Si hay.\n"
     ]
    }
   ],
   "source": [
    "if \"Venezuela\" in ah:\n",
    "    print(\"Si hay.\")"
   ]
  },
  {
   "cell_type": "code",
   "execution_count": 7,
   "metadata": {},
   "outputs": [
    {
     "data": {
      "text/plain": [
       "<selenium.webdriver.remote.webelement.WebElement (session=\"5d1d13839abfea7063af77158469dac2\", element=\"161eb641-0e2c-4c98-bfec-8fc1ecddf737\")>"
      ]
     },
     "execution_count": 7,
     "metadata": {},
     "output_type": "execute_result"
    }
   ],
   "source": [
    "from selenium import webdriver\n",
    "from selenium.webdriver.chrome.options import Options\n",
    "from selenium.webdriver.common.by import By\n",
    "from selenium.webdriver.support.ui import WebDriverWait\n",
    "from selenium.webdriver.support import expected_conditions\n",
    "from selenium.webdriver.common.keys import Keys\n",
    "# For Scrapping.----------------------------------\n",
    "import requests\n",
    "from bs4 import BeautifulSoup\n",
    "import html\n",
    "from lxml import etree\n",
    "#------------------------------------------------\n",
    "\n",
    "chrome_options = Options()\n",
    "chrome_options.add_argument('--no-sandbox')\n",
    "chrome_options.add_argument('--disable-dev-shm-usage')\n",
    "\n",
    "driver = webdriver.Chrome(options=chrome_options)\n",
    "driver.implicitly_wait(40)  # seconds\n",
    "paggina = \"https://orbitacomunicacion.com/\"\n",
    "driver.get(paggina + \"entra/\")\n",
    "\n",
    "#Detecting items:\n",
    "browser = driver\n",
    "username =\"orbiter\"\n",
    "password =\"@fc#Db)4Ku*S9\"\n",
    "\n",
    "WebDriverWait(driver, 20).until(\n",
    "    expected_conditions.\n",
    "        presence_of_element_located(\n",
    "        (By.ID, 'user_login')))\n",
    "        # //*[@id=\"user_login\"]\n",
    "yeah = driver.find_element_by_xpath(\n",
    "    '//*[@id=\"user_login\"]'\n",
    "    )\n",
    "yeah.send_keys(username)\n",
    "hell = driver.find_element_by_xpath(\n",
    "       '//*[@id=\"user_pass\"]'\n",
    "        )\n",
    "hell.click()\n",
    "hell.send_keys(password)\n",
    "hell.send_keys(Keys.ENTER)\n",
    "\n",
    "newentry_xpath = '//*[@id=\"wp-admin-bar-new-content\"]'\n",
    "WebDriverWait(driver, 20).until(\n",
    "    expected_conditions.\n",
    "        presence_of_element_located((By.XPATH,\n",
    "                                     newentry_xpath)))\n",
    "# DONE. We are in! Now let's write.\n",
    "# ------------------\n",
    "driver.find_element_by_xpath(newentry_xpath).click()\n",
    "\n",
    "try:\n",
    "    pop_up = driver.find_element_by_xpath(\n",
    "    '/html/body/div[5]/div/div/div/div/div/div[1]/button')\n",
    "    if pop_up:\n",
    "        pop_up.click()\n",
    "finally:\n",
    "    print('Pop-up on New Entry CHECKED.')\n",
    "#except:\n",
    "#    print('None pop-up showed')\n",
    "# ---- LET'S PASTE NOW!"
   ]
  },
  {
   "cell_type": "code",
   "execution_count": 9,
   "metadata": {},
   "outputs": [],
   "source": [
    "#driver.find_element_by_xpath(newentry_xpath).click()"
   ]
  },
  {
   "cell_type": "code",
   "execution_count": 15,
   "metadata": {},
   "outputs": [
    {
     "name": "stdout",
     "output_type": "stream",
     "text": [
      "Pop-up on New Entry CHECKED.\n"
     ]
    }
   ],
   "source": [
    "try:\n",
    "    pop_up = driver.find_element_by_xpath(\n",
    "    '/html/body/div[5]/div/div/div/div/div/div[1]/button')\n",
    "    if pop_up:\n",
    "        pop_up.click()\n",
    "finally:\n",
    "    print('Pop-up on New Entry CHECKED.')\n",
    "#except:\n",
    "#    print('None pop-up showed')\n",
    "        \n",
    "        \n",
    "    "
   ]
  },
  {
   "cell_type": "code",
   "execution_count": null,
   "metadata": {},
   "outputs": [],
   "source": [
    "addtittle_xpath = '//*[@id=\"editor\"]/div[1]/div/div[2]/div[2]/div[3]/div[3]/div/div[2]/div[1]/div'\n",
    "addtxtblock_xpath = '//*[@id=\"editor\"]/div[1]/div/div[2]/div[2]/div[3]/div[3]/div/div[2]/div[3]'\n",
    "\n",
    "addtittle = driver.find_element_by_xpath(addtittle_xpath)"
   ]
  },
  {
   "cell_type": "code",
   "execution_count": null,
   "metadata": {},
   "outputs": [],
   "source": [
    "summary_xpath_tab = '//*[@id=\"editor\"]/div[1]/div[1]/div[2]/div[3]/div/div[3]/div[6]/h2/button'\n",
    "# this tab above is for Tabs button.\n",
    "summary_xpath_add = '//*[@id=\"inspector-textarea-control-0\"]'\n",
    "# TODO: realizar un if, si esta abierta la pestana de el.\n",
    "categories_xpath_tab = '//*[@id=\"editor\"]/div[1]/div[1]/div[2]/div[3]/div/div[3]/div[3]/h2/button'\n",
    "categories_xpath_add = '//*[@id=\"editor\"]/div[1]/div[1]/div[2]/div[3]/div/div[3]/div[3]/div'\n",
    "    # without the catg.\n",
    "tagging_xpath_tab = '//*[@id=\"editor\"]/div[1]/div[1]/div[2]/div[3]/div/div[3]/div[4]/h2/button'\n",
    "tagging_xpath_add = '//*[@id=\"components-form-token-input-0\"]'\n",
    "    # Here's need to input and enter each tag."
   ]
  },
  {
   "cell_type": "code",
   "execution_count": 28,
   "metadata": {},
   "outputs": [
    {
     "name": "stdout",
     "output_type": "stream",
     "text": [
      "Cororavirus\n"
     ]
    }
   ],
   "source": [
    "categories_xpath_add = '//*[@id=\"editor\"]/div[1]/div[1]/div[2]/div[3]/div/div[3]/div[3]/div'\n",
    "                    #  '//*[@id=\"editor\"]/div[1]/div[1]/div[2]/div[3]/div/div[3]/div[3]/div/div[1]'\n",
    "categories_text = driver.find_elements_by_xpath(\n",
    "    categories_xpath_add + \"/div\")\n",
    "print(categories_text[0]\n",
    "      .text) # Ok, en el range(len(categories_text))\n",
    "             # Buscar si eso está en el texto. Y pues click!\n",
    "        # de ahi, con todo. Buscar luego por palabras Clave.\n",
    "    "
   ]
  },
  {
   "cell_type": "code",
   "execution_count": null,
   "metadata": {},
   "outputs": [],
   "source": []
  }
 ],
 "metadata": {
  "kernelspec": {
   "display_name": "Python 3",
   "language": "python",
   "name": "python3"
  },
  "language_info": {
   "codemirror_mode": {
    "name": "ipython",
    "version": 3
   },
   "file_extension": ".py",
   "mimetype": "text/x-python",
   "name": "python",
   "nbconvert_exporter": "python",
   "pygments_lexer": "ipython3",
   "version": "3.7.3"
  }
 },
 "nbformat": 4,
 "nbformat_minor": 2
}
